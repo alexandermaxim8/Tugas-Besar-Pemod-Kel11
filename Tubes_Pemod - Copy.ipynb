{
 "cells": [
  {
   "cell_type": "code",
   "execution_count": 1,
   "metadata": {
    "id": "62UUSn0gh9Ca"
   },
   "outputs": [],
   "source": [
    "import pandas as pd\n",
    "import numpy as np\n",
    "import matplotlib.pyplot as plt\n",
    "from sklearn.model_selection import train_test_split\n",
    "from sklearn.metrics import confusion_matrix\n",
    "import seaborn as sns\n",
    "from sklearn.metrics import precision_recall_fscore_support"
   ]
  },
  {
   "cell_type": "code",
   "execution_count": 2,
   "metadata": {
    "id": "GCuAx0W-m_yf"
   },
   "outputs": [],
   "source": [
    "url = 'https://raw.githubusercontent.com/alexandermaxim8/Tugas-Besar-Pemod-Kel11/main/evchargedata.csv'\n",
    "df_charge = pd.read_csv(url, encoding = 'unicode_escape')\n",
    "url = 'https://raw.githubusercontent.com/alexandermaxim8/Tugas-Besar-Pemod-Kel11/main/clusters.csv'\n",
    "df_cluster = pd.read_csv(url, encoding = 'unicode_escape')"
   ]
  },
  {
   "cell_type": "code",
   "execution_count": 3,
   "metadata": {
    "colab": {
     "base_uri": "https://localhost:8080/"
    },
    "id": "SvmVn4PZnKV8",
    "outputId": "bc4628a9-e218-47fb-ae0b-2c44a2ad5462"
   },
   "outputs": [
    {
     "name": "stdout",
     "output_type": "stream",
     "text": [
      "<class 'pandas.core.frame.DataFrame'>\n",
      "RangeIndex: 76698 entries, 0 to 76697\n",
      "Data columns (total 5 columns):\n",
      " #   Column                  Non-Null Count  Dtype \n",
      "---  ------                  --------------  ----- \n",
      " 0   ï»¿ParticipantID        76698 non-null  object\n",
      " 1   BatteryChargeStartDate  76698 non-null  object\n",
      " 2   BatteryChargeStopDate   76698 non-null  object\n",
      " 3   Starting SoC (of 12)    76698 non-null  int64 \n",
      " 4   Ending SoC (of 12)      76698 non-null  int64 \n",
      "dtypes: int64(2), object(3)\n",
      "memory usage: 2.9+ MB\n"
     ]
    }
   ],
   "source": [
    "df_charge.info()"
   ]
  },
  {
   "cell_type": "code",
   "execution_count": 4,
   "metadata": {
    "id": "GcH6lLu5q1Lo"
   },
   "outputs": [],
   "source": [
    "df_charge['BatteryChargeStartDate'] = pd.to_datetime(df_charge['BatteryChargeStartDate'])\n",
    "df_charge['BatteryChargeStopDate'] = pd.to_datetime(df_charge['BatteryChargeStopDate'])\n",
    "df_charge['Duration'] = (df_charge['BatteryChargeStopDate']-df_charge['BatteryChargeStartDate'])/np.timedelta64(1,'h')\n",
    "df_charge['MidTime'] = df_charge['BatteryChargeStartDate']+(df_charge['BatteryChargeStopDate']-df_charge['BatteryChargeStartDate'])/2\n",
    "df_charge['DayofWeek'] = df_charge['MidTime'].dt.dayofweek\n",
    "df_charge['HourofDay'] = df_charge['MidTime'].dt.hour\n",
    "df_charge = df_charge.drop(['BatteryChargeStartDate', 'BatteryChargeStopDate', 'MidTime'], axis=1)"
   ]
  },
  {
   "cell_type": "code",
   "execution_count": 5,
   "metadata": {
    "colab": {
     "base_uri": "https://localhost:8080/",
     "height": 424
    },
    "id": "1zJX_IAksY04",
    "outputId": "69ac8b3c-ab71-4c82-a769-9c08eabd9745"
   },
   "outputs": [
    {
     "data": {
      "text/html": [
       "<div>\n",
       "<style scoped>\n",
       "    .dataframe tbody tr th:only-of-type {\n",
       "        vertical-align: middle;\n",
       "    }\n",
       "\n",
       "    .dataframe tbody tr th {\n",
       "        vertical-align: top;\n",
       "    }\n",
       "\n",
       "    .dataframe thead th {\n",
       "        text-align: right;\n",
       "    }\n",
       "</style>\n",
       "<table border=\"1\" class=\"dataframe\">\n",
       "  <thead>\n",
       "    <tr style=\"text-align: right;\">\n",
       "      <th></th>\n",
       "      <th>ï»¿ParticipantID</th>\n",
       "      <th>Starting SoC (of 12)</th>\n",
       "      <th>Ending SoC (of 12)</th>\n",
       "      <th>Duration</th>\n",
       "      <th>DayofWeek</th>\n",
       "      <th>HourofDay</th>\n",
       "    </tr>\n",
       "  </thead>\n",
       "  <tbody>\n",
       "    <tr>\n",
       "      <th>0</th>\n",
       "      <td>GC10</td>\n",
       "      <td>1</td>\n",
       "      <td>11</td>\n",
       "      <td>1.000000</td>\n",
       "      <td>6</td>\n",
       "      <td>16</td>\n",
       "    </tr>\n",
       "    <tr>\n",
       "      <th>1</th>\n",
       "      <td>GC10</td>\n",
       "      <td>2</td>\n",
       "      <td>11</td>\n",
       "      <td>0.666667</td>\n",
       "      <td>6</td>\n",
       "      <td>18</td>\n",
       "    </tr>\n",
       "    <tr>\n",
       "      <th>2</th>\n",
       "      <td>GC10</td>\n",
       "      <td>4</td>\n",
       "      <td>12</td>\n",
       "      <td>7.783333</td>\n",
       "      <td>0</td>\n",
       "      <td>12</td>\n",
       "    </tr>\n",
       "    <tr>\n",
       "      <th>3</th>\n",
       "      <td>GC10</td>\n",
       "      <td>5</td>\n",
       "      <td>8</td>\n",
       "      <td>2.183333</td>\n",
       "      <td>1</td>\n",
       "      <td>8</td>\n",
       "    </tr>\n",
       "    <tr>\n",
       "      <th>4</th>\n",
       "      <td>GC10</td>\n",
       "      <td>4</td>\n",
       "      <td>4</td>\n",
       "      <td>0.050000</td>\n",
       "      <td>1</td>\n",
       "      <td>15</td>\n",
       "    </tr>\n",
       "    <tr>\n",
       "      <th>...</th>\n",
       "      <td>...</td>\n",
       "      <td>...</td>\n",
       "      <td>...</td>\n",
       "      <td>...</td>\n",
       "      <td>...</td>\n",
       "      <td>...</td>\n",
       "    </tr>\n",
       "    <tr>\n",
       "      <th>76693</th>\n",
       "      <td>SS206</td>\n",
       "      <td>4</td>\n",
       "      <td>10</td>\n",
       "      <td>2.500000</td>\n",
       "      <td>5</td>\n",
       "      <td>19</td>\n",
       "    </tr>\n",
       "    <tr>\n",
       "      <th>76694</th>\n",
       "      <td>ST1074</td>\n",
       "      <td>7</td>\n",
       "      <td>12</td>\n",
       "      <td>4.366667</td>\n",
       "      <td>6</td>\n",
       "      <td>17</td>\n",
       "    </tr>\n",
       "    <tr>\n",
       "      <th>76695</th>\n",
       "      <td>ST1062</td>\n",
       "      <td>8</td>\n",
       "      <td>12</td>\n",
       "      <td>3.433333</td>\n",
       "      <td>6</td>\n",
       "      <td>7</td>\n",
       "    </tr>\n",
       "    <tr>\n",
       "      <th>76696</th>\n",
       "      <td>BL05</td>\n",
       "      <td>10</td>\n",
       "      <td>12</td>\n",
       "      <td>2.300000</td>\n",
       "      <td>5</td>\n",
       "      <td>23</td>\n",
       "    </tr>\n",
       "    <tr>\n",
       "      <th>76697</th>\n",
       "      <td>ST1094</td>\n",
       "      <td>5</td>\n",
       "      <td>11</td>\n",
       "      <td>4.483333</td>\n",
       "      <td>6</td>\n",
       "      <td>9</td>\n",
       "    </tr>\n",
       "  </tbody>\n",
       "</table>\n",
       "<p>76698 rows × 6 columns</p>\n",
       "</div>"
      ],
      "text/plain": [
       "      ï»¿ParticipantID  Starting SoC (of 12)  Ending SoC (of 12)  Duration  \\\n",
       "0                 GC10                     1                  11  1.000000   \n",
       "1                 GC10                     2                  11  0.666667   \n",
       "2                 GC10                     4                  12  7.783333   \n",
       "3                 GC10                     5                   8  2.183333   \n",
       "4                 GC10                     4                   4  0.050000   \n",
       "...                ...                   ...                 ...       ...   \n",
       "76693            SS206                     4                  10  2.500000   \n",
       "76694           ST1074                     7                  12  4.366667   \n",
       "76695           ST1062                     8                  12  3.433333   \n",
       "76696             BL05                    10                  12  2.300000   \n",
       "76697           ST1094                     5                  11  4.483333   \n",
       "\n",
       "       DayofWeek  HourofDay  \n",
       "0              6         16  \n",
       "1              6         18  \n",
       "2              0         12  \n",
       "3              1          8  \n",
       "4              1         15  \n",
       "...          ...        ...  \n",
       "76693          5         19  \n",
       "76694          6         17  \n",
       "76695          6          7  \n",
       "76696          5         23  \n",
       "76697          6          9  \n",
       "\n",
       "[76698 rows x 6 columns]"
      ]
     },
     "execution_count": 5,
     "metadata": {},
     "output_type": "execute_result"
    }
   ],
   "source": [
    "df_charge"
   ]
  },
  {
   "cell_type": "code",
   "execution_count": 6,
   "metadata": {
    "colab": {
     "base_uri": "https://localhost:8080/",
     "height": 459
    },
    "id": "CJcs49ZTtwcz",
    "outputId": "bb659d4d-4296-44a2-9a52-8d42676e1b5b"
   },
   "outputs": [
    {
     "name": "stderr",
     "output_type": "stream",
     "text": [
      "C:\\Users\\Asus\\AppData\\Local\\Temp\\ipykernel_40532\\2230124627.py:2: FutureWarning: The default value of regex will change from True to False in a future version.\n",
      "  df_charge['ï»¿ParticipantID'] = df_charge['ï»¿ParticipantID'].astype(str).str.replace('\\d', '')\n"
     ]
    },
    {
     "data": {
      "text/html": [
       "<div>\n",
       "<style scoped>\n",
       "    .dataframe tbody tr th:only-of-type {\n",
       "        vertical-align: middle;\n",
       "    }\n",
       "\n",
       "    .dataframe tbody tr th {\n",
       "        vertical-align: top;\n",
       "    }\n",
       "\n",
       "    .dataframe thead th {\n",
       "        text-align: right;\n",
       "    }\n",
       "</style>\n",
       "<table border=\"1\" class=\"dataframe\">\n",
       "  <thead>\n",
       "    <tr style=\"text-align: right;\">\n",
       "      <th></th>\n",
       "      <th>ID</th>\n",
       "      <th>Starting SoC (of 12)</th>\n",
       "      <th>Ending SoC (of 12)</th>\n",
       "      <th>Duration</th>\n",
       "      <th>DayofWeek</th>\n",
       "      <th>HourofDay</th>\n",
       "      <th>NumberOfHousesOnFeeder</th>\n",
       "      <th>CableRating</th>\n",
       "      <th>EVClusterSize</th>\n",
       "    </tr>\n",
       "  </thead>\n",
       "  <tbody>\n",
       "    <tr>\n",
       "      <th>0</th>\n",
       "      <td>GC</td>\n",
       "      <td>1.0</td>\n",
       "      <td>11.0</td>\n",
       "      <td>1.000000</td>\n",
       "      <td>6.0</td>\n",
       "      <td>16.0</td>\n",
       "      <td>57.0</td>\n",
       "      <td>350.0</td>\n",
       "      <td>9.0</td>\n",
       "    </tr>\n",
       "    <tr>\n",
       "      <th>1</th>\n",
       "      <td>GC</td>\n",
       "      <td>2.0</td>\n",
       "      <td>11.0</td>\n",
       "      <td>0.666667</td>\n",
       "      <td>6.0</td>\n",
       "      <td>18.0</td>\n",
       "      <td>57.0</td>\n",
       "      <td>350.0</td>\n",
       "      <td>9.0</td>\n",
       "    </tr>\n",
       "    <tr>\n",
       "      <th>2</th>\n",
       "      <td>GC</td>\n",
       "      <td>4.0</td>\n",
       "      <td>12.0</td>\n",
       "      <td>7.783333</td>\n",
       "      <td>0.0</td>\n",
       "      <td>12.0</td>\n",
       "      <td>57.0</td>\n",
       "      <td>350.0</td>\n",
       "      <td>9.0</td>\n",
       "    </tr>\n",
       "    <tr>\n",
       "      <th>3</th>\n",
       "      <td>GC</td>\n",
       "      <td>5.0</td>\n",
       "      <td>8.0</td>\n",
       "      <td>2.183333</td>\n",
       "      <td>1.0</td>\n",
       "      <td>8.0</td>\n",
       "      <td>57.0</td>\n",
       "      <td>350.0</td>\n",
       "      <td>9.0</td>\n",
       "    </tr>\n",
       "    <tr>\n",
       "      <th>4</th>\n",
       "      <td>GC</td>\n",
       "      <td>4.0</td>\n",
       "      <td>4.0</td>\n",
       "      <td>0.050000</td>\n",
       "      <td>1.0</td>\n",
       "      <td>15.0</td>\n",
       "      <td>57.0</td>\n",
       "      <td>350.0</td>\n",
       "      <td>9.0</td>\n",
       "    </tr>\n",
       "    <tr>\n",
       "      <th>...</th>\n",
       "      <td>...</td>\n",
       "      <td>...</td>\n",
       "      <td>...</td>\n",
       "      <td>...</td>\n",
       "      <td>...</td>\n",
       "      <td>...</td>\n",
       "      <td>...</td>\n",
       "      <td>...</td>\n",
       "      <td>...</td>\n",
       "    </tr>\n",
       "    <tr>\n",
       "      <th>29144</th>\n",
       "      <td>CC</td>\n",
       "      <td>6.0</td>\n",
       "      <td>12.0</td>\n",
       "      <td>4.100000</td>\n",
       "      <td>6.0</td>\n",
       "      <td>22.0</td>\n",
       "      <td>149.0</td>\n",
       "      <td>335.0</td>\n",
       "      <td>8.0</td>\n",
       "    </tr>\n",
       "    <tr>\n",
       "      <th>29145</th>\n",
       "      <td>CC</td>\n",
       "      <td>3.0</td>\n",
       "      <td>12.0</td>\n",
       "      <td>5.200000</td>\n",
       "      <td>1.0</td>\n",
       "      <td>23.0</td>\n",
       "      <td>149.0</td>\n",
       "      <td>335.0</td>\n",
       "      <td>8.0</td>\n",
       "    </tr>\n",
       "    <tr>\n",
       "      <th>29146</th>\n",
       "      <td>CC</td>\n",
       "      <td>7.0</td>\n",
       "      <td>12.0</td>\n",
       "      <td>4.016667</td>\n",
       "      <td>6.0</td>\n",
       "      <td>18.0</td>\n",
       "      <td>149.0</td>\n",
       "      <td>335.0</td>\n",
       "      <td>8.0</td>\n",
       "    </tr>\n",
       "    <tr>\n",
       "      <th>29147</th>\n",
       "      <td>CC</td>\n",
       "      <td>6.0</td>\n",
       "      <td>12.0</td>\n",
       "      <td>4.050000</td>\n",
       "      <td>1.0</td>\n",
       "      <td>18.0</td>\n",
       "      <td>149.0</td>\n",
       "      <td>335.0</td>\n",
       "      <td>8.0</td>\n",
       "    </tr>\n",
       "    <tr>\n",
       "      <th>29148</th>\n",
       "      <td>CC</td>\n",
       "      <td>3.0</td>\n",
       "      <td>10.0</td>\n",
       "      <td>2.966667</td>\n",
       "      <td>3.0</td>\n",
       "      <td>17.0</td>\n",
       "      <td>149.0</td>\n",
       "      <td>335.0</td>\n",
       "      <td>8.0</td>\n",
       "    </tr>\n",
       "  </tbody>\n",
       "</table>\n",
       "<p>29149 rows × 9 columns</p>\n",
       "</div>"
      ],
      "text/plain": [
       "       ID  Starting SoC (of 12)  Ending SoC (of 12)  Duration  DayofWeek  \\\n",
       "0      GC                   1.0                11.0  1.000000        6.0   \n",
       "1      GC                   2.0                11.0  0.666667        6.0   \n",
       "2      GC                   4.0                12.0  7.783333        0.0   \n",
       "3      GC                   5.0                 8.0  2.183333        1.0   \n",
       "4      GC                   4.0                 4.0  0.050000        1.0   \n",
       "...    ..                   ...                 ...       ...        ...   \n",
       "29144  CC                   6.0                12.0  4.100000        6.0   \n",
       "29145  CC                   3.0                12.0  5.200000        1.0   \n",
       "29146  CC                   7.0                12.0  4.016667        6.0   \n",
       "29147  CC                   6.0                12.0  4.050000        1.0   \n",
       "29148  CC                   3.0                10.0  2.966667        3.0   \n",
       "\n",
       "       HourofDay  NumberOfHousesOnFeeder  CableRating  EVClusterSize  \n",
       "0           16.0                    57.0        350.0            9.0  \n",
       "1           18.0                    57.0        350.0            9.0  \n",
       "2           12.0                    57.0        350.0            9.0  \n",
       "3            8.0                    57.0        350.0            9.0  \n",
       "4           15.0                    57.0        350.0            9.0  \n",
       "...          ...                     ...          ...            ...  \n",
       "29144       22.0                   149.0        335.0            8.0  \n",
       "29145       23.0                   149.0        335.0            8.0  \n",
       "29146       18.0                   149.0        335.0            8.0  \n",
       "29147       18.0                   149.0        335.0            8.0  \n",
       "29148       17.0                   149.0        335.0            8.0  \n",
       "\n",
       "[29149 rows x 9 columns]"
      ]
     },
     "execution_count": 6,
     "metadata": {},
     "output_type": "execute_result"
    }
   ],
   "source": [
    "SS2_index = df_charge.index[df_charge['ï»¿ParticipantID'].astype(str).str.contains('SS2')]\n",
    "df_charge['ï»¿ParticipantID'] = df_charge['ï»¿ParticipantID'].astype(str).str.replace('\\d', '')\n",
    "df_charge = df_charge.rename({'ï»¿ParticipantID': 'ID'}, axis=1)\n",
    "df_cluster = df_cluster.rename({'ï»¿Prefix': 'ID'}, axis=1)\n",
    "df_alldata = pd.merge(df_charge, df_cluster, on=['ID'], how='outer')\n",
    "df_alldata.loc[SS2_index, 'ID'] = 'SS2'\n",
    "df_alldata = df_alldata.drop(['Name', 'MC_ID', 'DNO', 'MCInstallationDate'], axis=1)\n",
    "df_alldata = df_alldata.dropna()\n",
    "df_alldata.reset_index(drop=True, inplace=True)\n",
    "df_alldata_noKmeans = df_alldata\n",
    "df_alldata"
   ]
  },
  {
   "cell_type": "code",
   "execution_count": 7,
   "metadata": {
    "colab": {
     "base_uri": "https://localhost:8080/"
    },
    "id": "loVk-dTTAg4C",
    "outputId": "b32cffbf-e4c1-40ac-fe62-510a12f5798a"
   },
   "outputs": [
    {
     "data": {
      "text/plain": [
       "29149"
      ]
     },
     "execution_count": 7,
     "metadata": {},
     "output_type": "execute_result"
    }
   ],
   "source": [
    "df_alldata.shape[0]"
   ]
  },
  {
   "cell_type": "code",
   "execution_count": 8,
   "metadata": {
    "colab": {
     "base_uri": "https://localhost:8080/",
     "height": 249
    },
    "id": "IXsqRNBTMwYZ",
    "outputId": "8f374909-4cab-4f33-b7d8-656f3ebf5912"
   },
   "outputs": [
    {
     "name": "stdout",
     "output_type": "stream",
     "text": [
      "0.9119469795740983 3.9953186375095275 7.918483816013628\n",
      "1.1145994261752372 3.9767381148667216 6.8124190390119\n",
      "1.152686556485655 3.8283346261024453 6.376291211357057\n",
      "1.1294489315772878 3.6967114012815867 6.1669483782549115\n"
     ]
    },
    {
     "data": {
      "text/html": [
       "<div>\n",
       "<style scoped>\n",
       "    .dataframe tbody tr th:only-of-type {\n",
       "        vertical-align: middle;\n",
       "    }\n",
       "\n",
       "    .dataframe tbody tr th {\n",
       "        vertical-align: top;\n",
       "    }\n",
       "\n",
       "    .dataframe thead th {\n",
       "        text-align: right;\n",
       "    }\n",
       "</style>\n",
       "<table border=\"1\" class=\"dataframe\">\n",
       "  <thead>\n",
       "    <tr style=\"text-align: right;\">\n",
       "      <th></th>\n",
       "      <th>ID</th>\n",
       "      <th>Starting SoC (of 12)</th>\n",
       "      <th>Ending SoC (of 12)</th>\n",
       "      <th>Duration</th>\n",
       "      <th>DayofWeek</th>\n",
       "      <th>HourofDay</th>\n",
       "      <th>NumberOfHousesOnFeeder</th>\n",
       "      <th>CableRating</th>\n",
       "      <th>EVClusterSize</th>\n",
       "      <th>Cluster</th>\n",
       "    </tr>\n",
       "  </thead>\n",
       "  <tbody>\n",
       "    <tr>\n",
       "      <th>0</th>\n",
       "      <td>GC</td>\n",
       "      <td>1.0</td>\n",
       "      <td>11.0</td>\n",
       "      <td>1.000000</td>\n",
       "      <td>6.0</td>\n",
       "      <td>16.0</td>\n",
       "      <td>57.0</td>\n",
       "      <td>350.0</td>\n",
       "      <td>9.0</td>\n",
       "      <td>1</td>\n",
       "    </tr>\n",
       "    <tr>\n",
       "      <th>1</th>\n",
       "      <td>GC</td>\n",
       "      <td>2.0</td>\n",
       "      <td>11.0</td>\n",
       "      <td>0.666667</td>\n",
       "      <td>6.0</td>\n",
       "      <td>18.0</td>\n",
       "      <td>57.0</td>\n",
       "      <td>350.0</td>\n",
       "      <td>9.0</td>\n",
       "      <td>1</td>\n",
       "    </tr>\n",
       "    <tr>\n",
       "      <th>2</th>\n",
       "      <td>GC</td>\n",
       "      <td>4.0</td>\n",
       "      <td>12.0</td>\n",
       "      <td>7.783333</td>\n",
       "      <td>0.0</td>\n",
       "      <td>12.0</td>\n",
       "      <td>57.0</td>\n",
       "      <td>350.0</td>\n",
       "      <td>9.0</td>\n",
       "      <td>3</td>\n",
       "    </tr>\n",
       "    <tr>\n",
       "      <th>3</th>\n",
       "      <td>GC</td>\n",
       "      <td>5.0</td>\n",
       "      <td>8.0</td>\n",
       "      <td>2.183333</td>\n",
       "      <td>1.0</td>\n",
       "      <td>8.0</td>\n",
       "      <td>57.0</td>\n",
       "      <td>350.0</td>\n",
       "      <td>9.0</td>\n",
       "      <td>1</td>\n",
       "    </tr>\n",
       "    <tr>\n",
       "      <th>4</th>\n",
       "      <td>GC</td>\n",
       "      <td>4.0</td>\n",
       "      <td>4.0</td>\n",
       "      <td>0.050000</td>\n",
       "      <td>1.0</td>\n",
       "      <td>15.0</td>\n",
       "      <td>57.0</td>\n",
       "      <td>350.0</td>\n",
       "      <td>9.0</td>\n",
       "      <td>1</td>\n",
       "    </tr>\n",
       "    <tr>\n",
       "      <th>...</th>\n",
       "      <td>...</td>\n",
       "      <td>...</td>\n",
       "      <td>...</td>\n",
       "      <td>...</td>\n",
       "      <td>...</td>\n",
       "      <td>...</td>\n",
       "      <td>...</td>\n",
       "      <td>...</td>\n",
       "      <td>...</td>\n",
       "      <td>...</td>\n",
       "    </tr>\n",
       "    <tr>\n",
       "      <th>29144</th>\n",
       "      <td>CC</td>\n",
       "      <td>6.0</td>\n",
       "      <td>12.0</td>\n",
       "      <td>4.100000</td>\n",
       "      <td>6.0</td>\n",
       "      <td>22.0</td>\n",
       "      <td>149.0</td>\n",
       "      <td>335.0</td>\n",
       "      <td>8.0</td>\n",
       "      <td>2</td>\n",
       "    </tr>\n",
       "    <tr>\n",
       "      <th>29145</th>\n",
       "      <td>CC</td>\n",
       "      <td>3.0</td>\n",
       "      <td>12.0</td>\n",
       "      <td>5.200000</td>\n",
       "      <td>1.0</td>\n",
       "      <td>23.0</td>\n",
       "      <td>149.0</td>\n",
       "      <td>335.0</td>\n",
       "      <td>8.0</td>\n",
       "      <td>3</td>\n",
       "    </tr>\n",
       "    <tr>\n",
       "      <th>29146</th>\n",
       "      <td>CC</td>\n",
       "      <td>7.0</td>\n",
       "      <td>12.0</td>\n",
       "      <td>4.016667</td>\n",
       "      <td>6.0</td>\n",
       "      <td>18.0</td>\n",
       "      <td>149.0</td>\n",
       "      <td>335.0</td>\n",
       "      <td>8.0</td>\n",
       "      <td>2</td>\n",
       "    </tr>\n",
       "    <tr>\n",
       "      <th>29147</th>\n",
       "      <td>CC</td>\n",
       "      <td>6.0</td>\n",
       "      <td>12.0</td>\n",
       "      <td>4.050000</td>\n",
       "      <td>1.0</td>\n",
       "      <td>18.0</td>\n",
       "      <td>149.0</td>\n",
       "      <td>335.0</td>\n",
       "      <td>8.0</td>\n",
       "      <td>2</td>\n",
       "    </tr>\n",
       "    <tr>\n",
       "      <th>29148</th>\n",
       "      <td>CC</td>\n",
       "      <td>3.0</td>\n",
       "      <td>10.0</td>\n",
       "      <td>2.966667</td>\n",
       "      <td>3.0</td>\n",
       "      <td>17.0</td>\n",
       "      <td>149.0</td>\n",
       "      <td>335.0</td>\n",
       "      <td>8.0</td>\n",
       "      <td>2</td>\n",
       "    </tr>\n",
       "  </tbody>\n",
       "</table>\n",
       "<p>29149 rows × 10 columns</p>\n",
       "</div>"
      ],
      "text/plain": [
       "       ID  Starting SoC (of 12)  Ending SoC (of 12)  Duration  DayofWeek  \\\n",
       "0      GC                   1.0                11.0  1.000000        6.0   \n",
       "1      GC                   2.0                11.0  0.666667        6.0   \n",
       "2      GC                   4.0                12.0  7.783333        0.0   \n",
       "3      GC                   5.0                 8.0  2.183333        1.0   \n",
       "4      GC                   4.0                 4.0  0.050000        1.0   \n",
       "...    ..                   ...                 ...       ...        ...   \n",
       "29144  CC                   6.0                12.0  4.100000        6.0   \n",
       "29145  CC                   3.0                12.0  5.200000        1.0   \n",
       "29146  CC                   7.0                12.0  4.016667        6.0   \n",
       "29147  CC                   6.0                12.0  4.050000        1.0   \n",
       "29148  CC                   3.0                10.0  2.966667        3.0   \n",
       "\n",
       "       HourofDay  NumberOfHousesOnFeeder  CableRating  EVClusterSize  Cluster  \n",
       "0           16.0                    57.0        350.0            9.0        1  \n",
       "1           18.0                    57.0        350.0            9.0        1  \n",
       "2           12.0                    57.0        350.0            9.0        3  \n",
       "3            8.0                    57.0        350.0            9.0        1  \n",
       "4           15.0                    57.0        350.0            9.0        1  \n",
       "...          ...                     ...          ...            ...      ...  \n",
       "29144       22.0                   149.0        335.0            8.0        2  \n",
       "29145       23.0                   149.0        335.0            8.0        3  \n",
       "29146       18.0                   149.0        335.0            8.0        2  \n",
       "29147       18.0                   149.0        335.0            8.0        2  \n",
       "29148       17.0                   149.0        335.0            8.0        2  \n",
       "\n",
       "[29149 rows x 10 columns]"
      ]
     },
     "execution_count": 8,
     "metadata": {},
     "output_type": "execute_result"
    }
   ],
   "source": [
    "df_alldata_noKmeans['Cluster'] = df_alldata_noKmeans['Duration'].apply(lambda x: 0 if x <= 2 else 1 if x>2 and x<6 else 2)\n",
    "c = np.zeros(3)\n",
    "c_old = np.zeros(3)\n",
    "c[0] = np.random.randint(0, 2)\n",
    "c[1] = np.random.randint(2, 6)\n",
    "while c[1]==c[0]:\n",
    "  c[1] = np.random.randint(2, 6)\n",
    "c[2] = np.random.randint(6, 12)\n",
    "while c[2]==c[1] or c[2]==c[0]:\n",
    "  c[2] = np.random.randint(6, 12)\n",
    "\n",
    "d = np.zeros(3)\n",
    "\n",
    "while True:\n",
    "  i=0\n",
    "  for i in range(df_alldata.shape[0]):\n",
    "    d[0] = abs(df_alldata.iloc[i]['Duration']-c[0])\n",
    "    d[1] = abs(df_alldata.iloc[i]['Duration']-c[1])\n",
    "    d[2] = abs(df_alldata.iloc[i]['Duration']-c[2])\n",
    "    df_alldata.at[i, 'Cluster'] = np.argmin(d) + 1\n",
    "  #   if (i%1000) == 0:\n",
    "  #     print(i)\n",
    "  # print(df_alldata.shape[0])\n",
    "  c_old[0] = c[0]; c_old[1] = c[1]; c_old[2] = c[2]\n",
    "  c[0] = df_alldata[df_alldata['Cluster'] == 1]['Duration'].mean()\n",
    "  c[1] = df_alldata[df_alldata['Cluster'] == 2]['Duration'].mean()\n",
    "  c[2] = df_alldata[df_alldata['Cluster'] == 3]['Duration'].mean()\n",
    "  print(str(c[0])+\" \"+str(c[1])+\" \"+str(c[2]))\n",
    "  # print(df_alldata.shape[0])\n",
    "  if c[0]-c_old[0]<0.01 and c[1]-c_old[1]<0.01 and c[2]-c_old[2]<0.01:\n",
    "    break;\n",
    "df_alldata"
   ]
  },
  {
   "cell_type": "code",
   "execution_count": 9,
   "metadata": {
    "colab": {
     "base_uri": "https://localhost:8080/",
     "height": 424
    },
    "id": "e73huDn6Fzud",
    "outputId": "db091abd-3f15-453f-9604-35c29c57b3cb"
   },
   "outputs": [
    {
     "name": "stdout",
     "output_type": "stream",
     "text": [
      "       ID  Starting SoC (of 12)  Ending SoC (of 12)  Duration  DayofWeek  \\\n",
      "0      GC                   1.0                11.0  1.000000        6.0   \n",
      "1      GC                   2.0                11.0  0.666667        6.0   \n",
      "2      GC                   4.0                12.0  7.783333        0.0   \n",
      "3      GC                   5.0                 8.0  2.183333        1.0   \n",
      "4      GC                   4.0                 4.0  0.050000        1.0   \n",
      "...    ..                   ...                 ...       ...        ...   \n",
      "29144  CC                   6.0                12.0  4.100000        6.0   \n",
      "29145  CC                   3.0                12.0  5.200000        1.0   \n",
      "29146  CC                   7.0                12.0  4.016667        6.0   \n",
      "29147  CC                   6.0                12.0  4.050000        1.0   \n",
      "29148  CC                   3.0                10.0  2.966667        3.0   \n",
      "\n",
      "       HourofDay  NumberOfHousesOnFeeder  CableRating  EVClusterSize  \\\n",
      "0           16.0                    57.0        350.0            9.0   \n",
      "1           18.0                    57.0        350.0            9.0   \n",
      "2           12.0                    57.0        350.0            9.0   \n",
      "3            8.0                    57.0        350.0            9.0   \n",
      "4           15.0                    57.0        350.0            9.0   \n",
      "...          ...                     ...          ...            ...   \n",
      "29144       22.0                   149.0        335.0            8.0   \n",
      "29145       23.0                   149.0        335.0            8.0   \n",
      "29146       18.0                   149.0        335.0            8.0   \n",
      "29147       18.0                   149.0        335.0            8.0   \n",
      "29148       17.0                   149.0        335.0            8.0   \n",
      "\n",
      "       Cluster_1  Cluster_2  Cluster_3  \n",
      "0              1          0          0  \n",
      "1              1          0          0  \n",
      "2              0          0          1  \n",
      "3              1          0          0  \n",
      "4              1          0          0  \n",
      "...          ...        ...        ...  \n",
      "29144          0          1          0  \n",
      "29145          0          0          1  \n",
      "29146          0          1          0  \n",
      "29147          0          1          0  \n",
      "29148          0          1          0  \n",
      "\n",
      "[29149 rows x 12 columns]\n",
      "       ID  Starting SoC (of 12)  Ending SoC (of 12)  Duration  DayofWeek  \\\n",
      "0      GC                   1.0                11.0  1.000000        6.0   \n",
      "1      GC                   2.0                11.0  0.666667        6.0   \n",
      "2      GC                   4.0                12.0  7.783333        0.0   \n",
      "3      GC                   5.0                 8.0  2.183333        1.0   \n",
      "4      GC                   4.0                 4.0  0.050000        1.0   \n",
      "...    ..                   ...                 ...       ...        ...   \n",
      "29144  CC                   6.0                12.0  4.100000        6.0   \n",
      "29145  CC                   3.0                12.0  5.200000        1.0   \n",
      "29146  CC                   7.0                12.0  4.016667        6.0   \n",
      "29147  CC                   6.0                12.0  4.050000        1.0   \n",
      "29148  CC                   3.0                10.0  2.966667        3.0   \n",
      "\n",
      "       HourofDay  NumberOfHousesOnFeeder  CableRating  EVClusterSize  \\\n",
      "0           16.0                    57.0        350.0            9.0   \n",
      "1           18.0                    57.0        350.0            9.0   \n",
      "2           12.0                    57.0        350.0            9.0   \n",
      "3            8.0                    57.0        350.0            9.0   \n",
      "4           15.0                    57.0        350.0            9.0   \n",
      "...          ...                     ...          ...            ...   \n",
      "29144       22.0                   149.0        335.0            8.0   \n",
      "29145       23.0                   149.0        335.0            8.0   \n",
      "29146       18.0                   149.0        335.0            8.0   \n",
      "29147       18.0                   149.0        335.0            8.0   \n",
      "29148       17.0                   149.0        335.0            8.0   \n",
      "\n",
      "       Cluster_1  Cluster_2  Cluster_3  \n",
      "0              1          0          0  \n",
      "1              1          0          0  \n",
      "2              0          0          1  \n",
      "3              1          0          0  \n",
      "4              1          0          0  \n",
      "...          ...        ...        ...  \n",
      "29144          0          1          0  \n",
      "29145          0          0          1  \n",
      "29146          0          1          0  \n",
      "29147          0          1          0  \n",
      "29148          0          1          0  \n",
      "\n",
      "[29149 rows x 12 columns]\n"
     ]
    }
   ],
   "source": [
    "df_alldata = pd.get_dummies(data=df_alldata, columns=['Cluster'])\n",
    "df_alldata_noKmeans = pd.get_dummies(data=df_alldata_noKmeans, columns=['Cluster'])\n",
    "print(df_alldata)\n",
    "print(df_alldata_noKmeans)"
   ]
  },
  {
   "cell_type": "code",
   "execution_count": 10,
   "metadata": {},
   "outputs": [],
   "source": [
    "def PCA(X):\n",
    "    X = (X - np.mean(X, axis=0))/np.std(X, axis=0)\n",
    "    n_components = 4\n",
    "    from sklearn.decomposition import PCA\n",
    "    pca = PCA(n_components=n_components)\n",
    "    return np.array(pca.fit_transform(X))"
   ]
  },
  {
   "cell_type": "code",
   "execution_count": 11,
   "metadata": {},
   "outputs": [],
   "source": [
    "def stdnorm(X):\n",
    "    return (X - np.mean(X, axis=0))/np.std(X, axis=0)"
   ]
  },
  {
   "cell_type": "code",
   "execution_count": 12,
   "metadata": {
    "id": "k-4byEaQz9vh"
   },
   "outputs": [],
   "source": [
    "X = df_alldata[['Starting SoC (of 12)', 'Ending SoC (of 12)', 'DayofWeek', 'HourofDay', 'NumberOfHousesOnFeeder', 'CableRating', 'EVClusterSize']]\n",
    "X_noKmeans = df_alldata[['Starting SoC (of 12)', 'Ending SoC (of 12)', 'DayofWeek', 'HourofDay', 'NumberOfHousesOnFeeder', 'CableRating', 'EVClusterSize']]\n",
    "y = df_alldata[['Cluster_1', 'Cluster_2', 'Cluster_3']]\n",
    "y_noKmeans = df_alldata[['Cluster_1', 'Cluster_2', 'Cluster_3']]\n",
    "X_train, X_test, y_train, y_test = train_test_split(X, y, test_size=0.2)\n",
    "X_train_noKmeans, X_test_noKmeans, y_train_noKmeans, y_test_noKmeans = train_test_split(X_noKmeans, y_noKmeans, test_size=0.2)\n",
    "X_train = X_train.values\n",
    "X_train_noKmeans = X_train_noKmeans.values\n",
    "y_train = y_train.values\n",
    "y_train_noKmeans = y_train_noKmeans.values\n",
    "X_test = X_test.values\n",
    "X_test_noKmeans = X_test_noKmeans.values\n",
    "y_test = y_test.values\n",
    "y_test_noKmeans = y_test_noKmeans.values\n",
    "newX_train_noPCA = stdnorm(X_train)\n",
    "newX_test_noPCA = stdnorm(X_test)\n",
    "newX_train = PCA(X_train)\n",
    "newX_test = PCA(X_test)\n",
    "newX_train_noKmeans = PCA(X_train_noKmeans)\n",
    "newX_test_noKmeans = PCA(X_test_noKmeans)"
   ]
  },
  {
   "cell_type": "markdown",
   "metadata": {
    "id": "Bn1HhqrDSuA3"
   },
   "source": [
    "**MODELLING**"
   ]
  },
  {
   "cell_type": "markdown",
   "metadata": {
    "id": "LiAGubl_Kx0l"
   },
   "source": [
    "Activation Function"
   ]
  },
  {
   "cell_type": "code",
   "execution_count": 13,
   "metadata": {
    "id": "lLM6Lxm5K0w7"
   },
   "outputs": [],
   "source": [
    "def relu(x):\n",
    "    return np.maximum(0, x)\n",
    "\n",
    "def softmax(x):\n",
    "    expX = np.exp(x)\n",
    "    return expX/np.sum(expX, axis = 0)\n",
    "    #exp_x = np.exp(x - np.max(x, axis=-1, keepdims=True))\n",
    "    #return exp_x / np.sum(exp_x, axis=-1, keepdims=True)"
   ]
  },
  {
   "cell_type": "code",
   "execution_count": 14,
   "metadata": {
    "id": "tgmR3APqb-9q"
   },
   "outputs": [],
   "source": [
    "def derivative_relu(x):\n",
    "    return np.array(x > 0, dtype = np.float32)"
   ]
  },
  {
   "cell_type": "markdown",
   "metadata": {
    "id": "KGpYKufGM0mF"
   },
   "source": [
    "Initialize Parameters"
   ]
  },
  {
   "cell_type": "code",
   "execution_count": 15,
   "metadata": {
    "id": "Y87wuFHFM3tt"
   },
   "outputs": [],
   "source": [
    "#n_x = 7\n",
    "#n_h = 6\n",
    "#n_y = 3\n",
    "def initialize_parameters(n_x, n_h, n_y):\n",
    "   w1 = np.random.randn(n_h, n_x)\n",
    "   b1 = np.random.randn(n_h, 1)\n",
    "\n",
    "   w2 = np.random.randn(n_y, n_h)\n",
    "   b2 = np.random.randn(n_y, 1)\n",
    "\n",
    "   parameters = {\n",
    "        \"w1\" : w1,\n",
    "        \"b1\" : b1,\n",
    "        \"w2\" : w2,\n",
    "        \"b2\" : b2\n",
    "    }\n",
    "\n",
    "   return parameters"
   ]
  },
  {
   "cell_type": "markdown",
   "metadata": {
    "id": "dVNRAKoxal8M"
   },
   "source": [
    "Forward Propagation"
   ]
  },
  {
   "cell_type": "code",
   "execution_count": 16,
   "metadata": {
    "id": "A4VQAM0baltF"
   },
   "outputs": [],
   "source": [
    "def forward_propagation(x, parameters):\n",
    "\n",
    "  w1 = parameters['w1']\n",
    "  b1 = parameters['b1']\n",
    "  w2 = parameters['w2']\n",
    "  b2 = parameters['b2']\n",
    "\n",
    "    \n",
    "#   print(w1.shape)\n",
    "#   print(x.shape)\n",
    "#   print(b1.shape)\n",
    "  z1 = np.dot(w1, x) + b1\n",
    "  a1 = relu(z1)\n",
    "#   print(w2.shape)\n",
    "#   print(a1.shape)\n",
    "#   print(b2.shape)\n",
    "  z2 = np.dot(w2, a1) + b2\n",
    "  a2 = softmax(z2)\n",
    "#   print(a2.shape)\n",
    "\n",
    "  forward_cache = {\n",
    "       \"z1\": z1,\n",
    "       \"a1\": a1,\n",
    "       \"z2\": z2,\n",
    "       \"a2\": a2\n",
    "  }\n",
    "\n",
    "  return forward_cache"
   ]
  },
  {
   "cell_type": "markdown",
   "metadata": {
    "id": "xWwNmALfdv9Q"
   },
   "source": [
    "#Cost Function"
   ]
  },
  {
   "cell_type": "code",
   "execution_count": 17,
   "metadata": {
    "id": "PBut25Tpdyxr"
   },
   "outputs": [],
   "source": [
    "def cost_function(a2, y):\n",
    "  m = y.shape[1]\n",
    "#   print(m)\n",
    "  #cost = -(1/m)*np.sum(y*np.log(a2))\n",
    "\n",
    "  cost = -(1/m)*np.sum(np.sum(y*np.log(a2), 1), 0)\n",
    "  return cost"
   ]
  },
  {
   "cell_type": "markdown",
   "metadata": {
    "id": "-pPfTV-Utr9n"
   },
   "source": [
    "# Backpropagation"
   ]
  },
  {
   "cell_type": "code",
   "execution_count": 18,
   "metadata": {
    "id": "NEFnXrDstJOt"
   },
   "outputs": [],
   "source": [
    "def back_prop(x, y, parameters, forward_cache):\n",
    "\n",
    "  w1 = parameters['w1']\n",
    "  b1 = parameters['b1']\n",
    "  w2 = parameters['w2']\n",
    "  b2 = parameters['b2']\n",
    "\n",
    "  a1 = forward_cache['a1']\n",
    "  a2 = forward_cache['a2']\n",
    "\n",
    "  m = x.shape[1]\n",
    "\n",
    "  dz2 = (a2 - y)\n",
    "  dw2 = (1/m)*np.dot(dz2, a1.T)\n",
    "  db2 = (1/m)*np.sum(dz2, axis=1, keepdims=True)\n",
    "\n",
    "  dz1 = (1/m)*np.dot(w2.T, dz2)*derivative_relu(a1)\n",
    "  dw1 = (1/m)*np.dot(dz1, x.T)\n",
    "  db1 = (1/m)*np.sum(dz1, axis=1, keepdims=True)\n",
    "\n",
    "  gradients = {\n",
    "      \"dw1\" : dw1,\n",
    "      \"db1\" : db1,\n",
    "      \"dw2\" : dw2,\n",
    "      \"db2\" : db2\n",
    "  }\n",
    "\n",
    "  return gradients"
   ]
  },
  {
   "cell_type": "markdown",
   "metadata": {
    "id": "pi1f1hktr8Gk"
   },
   "source": [
    "#Update Parameters"
   ]
  },
  {
   "cell_type": "code",
   "execution_count": 19,
   "metadata": {
    "id": "XThHayFNr9tY"
   },
   "outputs": [],
   "source": [
    "def update_parameters(parameters, gradients, learning_rate):\n",
    "  w1 = parameters['w1']\n",
    "  b1 = parameters['b1']\n",
    "  w2 = parameters['w2']\n",
    "  b2 = parameters['b2']\n",
    "\n",
    "  dw1 = gradients['dw1']\n",
    "  db1 = gradients['db1']\n",
    "  dw2 = gradients['dw2']\n",
    "  db2 = gradients['db2']\n",
    "\n",
    "#   print(b2.shape)\n",
    "#   print(db2.shape)\n",
    "  w1 = w1 - learning_rate*dw1\n",
    "  b1 = b1 - learning_rate*db1\n",
    "  w2 = w2 - learning_rate*dw2\n",
    "  b2 = b2 - learning_rate*db2\n",
    "\n",
    "  parameters = {\n",
    "      \"w1\" : w1,\n",
    "      \"b1\" : b1,\n",
    "      \"w2\" : w2,\n",
    "      \"b2\" : b2\n",
    "  }\n",
    "\n",
    "  return parameters\n"
   ]
  },
  {
   "cell_type": "code",
   "execution_count": 20,
   "metadata": {
    "id": "5vl-K_89uckB"
   },
   "outputs": [],
   "source": [
    "def model(x, y, n_h, learning_rate, iterations):\n",
    "\n",
    "  n_x = x.shape[0]\n",
    "  n_y = y.shape[0]\n",
    "\n",
    "  cost_list = []\n",
    "\n",
    "  parameters = initialize_parameters(n_x, n_h, n_y)\n",
    "\n",
    "  for i in range(iterations+1):\n",
    "    forward_cache = forward_propagation(x, parameters)\n",
    "\n",
    "    cost = cost_function(forward_cache['a2'], y)\n",
    "\n",
    "    gradients = back_prop(x, y, parameters, forward_cache)\n",
    "    \n",
    "\n",
    "    parameters = update_parameters(parameters, gradients, learning_rate)\n",
    "\n",
    "    cost_list.append(cost)\n",
    "\n",
    "    if(i%(iterations/10) == 0):\n",
    "      print(\"Cost after\", i, \"iterations is :\", cost)\n",
    "\n",
    "  return parameters, cost_list"
   ]
  },
  {
   "cell_type": "code",
   "execution_count": 21,
   "metadata": {
    "colab": {
     "base_uri": "https://localhost:8080/"
    },
    "id": "_NUUTklpzaYV",
    "outputId": "0408a563-88e3-4798-c89b-6ccff7e1e530",
    "scrolled": true
   },
   "outputs": [
    {
     "name": "stdout",
     "output_type": "stream",
     "text": [
      "Cost after 0 iterations is : 5.438417599682821\n",
      "Cost after 10 iterations is : 2.7906042988486717\n",
      "Cost after 20 iterations is : 2.1651100673739307\n",
      "Cost after 30 iterations is : 1.73145819678566\n",
      "Cost after 40 iterations is : 1.3780779912144872\n",
      "Cost after 50 iterations is : 1.167004086779068\n",
      "Cost after 60 iterations is : 1.0840099829709868\n",
      "Cost after 70 iterations is : 1.0409603097824829\n",
      "Cost after 80 iterations is : 1.0117790454631423\n",
      "Cost after 90 iterations is : 0.9893845469144327\n",
      "Cost after 100 iterations is : 0.9710709569877739\n",
      "==============================================\n",
      "Cost after 0 iterations is : 7.290505495825557\n",
      "Cost after 10 iterations is : 3.7535320638854444\n",
      "Cost after 20 iterations is : 2.4079026351594734\n",
      "Cost after 30 iterations is : 1.7631352651110128\n",
      "Cost after 40 iterations is : 1.508897527989354\n",
      "Cost after 50 iterations is : 1.3395056270986094\n",
      "Cost after 60 iterations is : 1.2152915516241316\n",
      "Cost after 70 iterations is : 1.1269261846239476\n",
      "Cost after 80 iterations is : 1.0703777107421693\n",
      "Cost after 90 iterations is : 1.0357453055615091\n",
      "Cost after 100 iterations is : 1.0122391219055507\n"
     ]
    }
   ],
   "source": [
    "iterations = 100\n",
    "n_h = 25\n",
    "learning_rate = 0.1\n",
    "Parameters_train, Cost_list_train = model(np.transpose(newX_train), np.transpose(y_train), n_h , learning_rate = learning_rate, iterations = iterations)\n",
    "print(\"==============================================\")\n",
    "arameters_test, Cost_list_test = model(np.transpose(newX_test), np.transpose(y_test), n_h , learning_rate = learning_rate, iterations = iterations)"
   ]
  },
  {
   "cell_type": "code",
   "execution_count": 22,
   "metadata": {},
   "outputs": [
    {
     "name": "stdout",
     "output_type": "stream",
     "text": [
      "Cost after 0 iterations is : 4.986354339387865\n",
      "Cost after 10 iterations is : 3.1064284041117274\n",
      "Cost after 20 iterations is : 2.212058430433368\n",
      "Cost after 30 iterations is : 1.6874525158298423\n",
      "Cost after 40 iterations is : 1.4386378452422781\n",
      "Cost after 50 iterations is : 1.3148727141270962\n",
      "Cost after 60 iterations is : 1.2312655229733291\n",
      "Cost after 70 iterations is : 1.167128812881602\n",
      "Cost after 80 iterations is : 1.116782079295865\n",
      "Cost after 90 iterations is : 1.0770340698264378\n",
      "Cost after 100 iterations is : 1.0454601902680996\n",
      "==============================================\n",
      "Cost after 0 iterations is : 4.030448685922098\n",
      "Cost after 10 iterations is : 1.951855072843372\n",
      "Cost after 20 iterations is : 1.4222171853868475\n",
      "Cost after 30 iterations is : 1.2631145092210876\n",
      "Cost after 40 iterations is : 1.1792068258062407\n",
      "Cost after 50 iterations is : 1.128319203642265\n",
      "Cost after 60 iterations is : 1.0924479835115217\n",
      "Cost after 70 iterations is : 1.0648743691352986\n",
      "Cost after 80 iterations is : 1.0426018518603646\n",
      "Cost after 90 iterations is : 1.0240138113088495\n",
      "Cost after 100 iterations is : 1.00813074287705\n"
     ]
    }
   ],
   "source": [
    "Parameters_train_noKmeans, Cost_list_train_noKmeans = model(np.transpose(newX_train_noKmeans), np.transpose(y_train_noKmeans), n_h , learning_rate = learning_rate, iterations = iterations)\n",
    "print(\"==============================================\")\n",
    "Parameters_test_noKmeans, Cost_list_test_noKmeans = model(np.transpose(newX_test_noKmeans), np.transpose(y_test_noKmeans), n_h , learning_rate = learning_rate, iterations = iterations)"
   ]
  },
  {
   "cell_type": "code",
   "execution_count": 23,
   "metadata": {},
   "outputs": [
    {
     "name": "stdout",
     "output_type": "stream",
     "text": [
      "Cost after 0 iterations is : 8.895266932508928\n",
      "Cost after 10 iterations is : 2.199362443324811\n",
      "Cost after 20 iterations is : 1.5729128109853006\n",
      "Cost after 30 iterations is : 1.321831510393739\n",
      "Cost after 40 iterations is : 1.1576465092989072\n",
      "Cost after 50 iterations is : 1.0443138533476601\n",
      "Cost after 60 iterations is : 0.9619096303050726\n",
      "Cost after 70 iterations is : 0.8983530027598408\n",
      "Cost after 80 iterations is : 0.8474413239356989\n",
      "Cost after 90 iterations is : 0.805635112718805\n",
      "Cost after 100 iterations is : 0.7706954935686323\n",
      "==============================================\n",
      "Cost after 0 iterations is : 6.676348986210027\n",
      "Cost after 10 iterations is : 2.6106640204928624\n",
      "Cost after 20 iterations is : 2.0390158271482783\n",
      "Cost after 30 iterations is : 1.739040627830859\n",
      "Cost after 40 iterations is : 1.5170445663232761\n",
      "Cost after 50 iterations is : 1.3398614012958419\n",
      "Cost after 60 iterations is : 1.1946896836772778\n",
      "Cost after 70 iterations is : 1.0752431033873664\n",
      "Cost after 80 iterations is : 0.9775819413446533\n",
      "Cost after 90 iterations is : 0.8986642246315947\n",
      "Cost after 100 iterations is : 0.8357504599093063\n"
     ]
    }
   ],
   "source": [
    "Parameters_train_noPCA, Cost_list_train_noPCA = model(np.transpose(newX_train_noPCA), np.transpose(y_train), n_h , learning_rate = learning_rate, iterations = iterations)\n",
    "print(\"==============================================\")\n",
    "arameters_test_noPCA, Cost_list_test_noPCA = model(np.transpose(newX_test_noPCA), np.transpose(y_test), n_h , learning_rate = learning_rate, iterations = iterations)"
   ]
  },
  {
   "cell_type": "code",
   "execution_count": 24,
   "metadata": {
    "id": "m0iwgMmf6Y0W"
   },
   "outputs": [
    {
     "data": {
      "image/png": "[encoded data removed]",
      "text/plain": [
       "<Figure size 1200x500 with 4 Axes>"
      ]
     },
     "metadata": {},
     "output_type": "display_data"
    }
   ],
   "source": [
    "fig, ax = plt.subplots(2,2, figsize=(12,5))\n",
    "\n",
    "t = np.arange(0, iterations+1)\n",
    "\n",
    "ax[0, 0].plot(t, Cost_list_train, label='Train')\n",
    "ax[0, 0].plot(t, Cost_list_test, label='Test')\n",
    "ax[0, 0].set_title('Kmeans & PCA')\n",
    "ax[0, 0].legend()\n",
    "ax[0, 1].plot(t, Cost_list_train_noKmeans, label='Train')\n",
    "ax[0, 1].plot(t, Cost_list_test_noKmeans, label='Test')\n",
    "ax[0, 1].set_title('noKmeans & PCA')\n",
    "ax[0, 1].legend()\n",
    "ax[1, 0].plot(t, Cost_list_train_noPCA, label='Train')\n",
    "ax[1, 0].plot(t, Cost_list_test_noPCA, label='Test')\n",
    "ax[1, 0].set_title('Kmeans & noPCA')\n",
    "ax[1, 0].legend()\n",
    "plt.tight_layout()\n",
    "plt.show()"
   ]
  },
  {
   "cell_type": "code",
   "execution_count": 25,
   "metadata": {},
   "outputs": [
    {
     "name": "stdout",
     "output_type": "stream",
     "text": [
      "[[9.69182351e-01 8.33365545e-02 9.99999932e-01 ... 1.28600212e-01\n",
      "  2.68777591e-01 8.51495421e-01]\n",
      " [3.00054189e-02 3.25690056e-01 6.38355197e-08 ... 8.56503867e-01\n",
      "  6.90865790e-01 4.61309588e-02]\n",
      " [8.12230370e-04 5.90973389e-01 3.83158531e-09 ... 1.48959216e-02\n",
      "  4.03566195e-02 1.02373620e-01]]\n",
      "==============================================\n",
      "[[7.73025126e-01 2.97418388e-01 6.69906226e-01 ... 8.10694531e-01\n",
      "  4.42651919e-01 4.17537597e-01]\n",
      " [1.14208756e-02 5.57506299e-01 2.98161494e-01 ... 8.55451907e-02\n",
      "  5.57347249e-01 2.30061359e-01]\n",
      " [2.15553998e-01 1.45075313e-01 3.19322803e-02 ... 1.03760278e-01\n",
      "  8.31428202e-07 3.52401045e-01]]\n",
      "==============================================\n",
      "[[8.81905189e-01 7.61067127e-04 9.99999984e-01 ... 9.10512715e-01\n",
      "  5.49104955e-01 3.65868604e-01]\n",
      " [1.18042463e-01 6.23003823e-01 1.58606524e-08 ... 8.90598050e-02\n",
      "  4.50801434e-01 5.08257794e-01]\n",
      " [5.23482364e-05 3.76235110e-01 4.88950254e-16 ... 4.27480427e-04\n",
      "  9.36117498e-05 1.25873602e-01]]\n"
     ]
    }
   ],
   "source": [
    "forward_cache = forward_propagation(np.transpose(newX_test), Parameters_train)\n",
    "predict = forward_cache['a2']\n",
    "print(predict)\n",
    "print(\"==============================================\")\n",
    "forward_cache = forward_propagation(np.transpose(newX_test_noKmeans), Parameters_train_noKmeans)\n",
    "predict_noKmeans = forward_cache['a2']\n",
    "print(predict_noKmeans)\n",
    "print(\"==============================================\")\n",
    "forward_cache = forward_propagation(np.transpose(newX_test_noPCA), Parameters_train_noPCA)\n",
    "predict_noPCA = forward_cache['a2']\n",
    "print(predict_noPCA)"
   ]
  },
  {
   "cell_type": "code",
   "execution_count": 26,
   "metadata": {
    "scrolled": true
   },
   "outputs": [
    {
     "name": "stdout",
     "output_type": "stream",
     "text": [
      "[[1 0 1 ... 0 0 1]\n",
      " [0 0 0 ... 1 1 0]\n",
      " [0 1 0 ... 0 0 0]]\n",
      "==============================================\n",
      "[[1 0 1 ... 1 0 0]\n",
      " [0 1 0 ... 0 1 0]\n",
      " [0 0 0 ... 0 0 0]]\n",
      "==============================================\n",
      "[[1 0 1 ... 1 1 0]\n",
      " [0 1 0 ... 0 0 1]\n",
      " [0 0 0 ... 0 0 0]]\n"
     ]
    }
   ],
   "source": [
    "predict = (predict > 0.5).astype(int)\n",
    "print(predict)\n",
    "print(\"==============================================\")\n",
    "predict_noKmeans = (predict_noKmeans > 0.5).astype(int)\n",
    "print(predict_noKmeans)\n",
    "print(\"==============================================\")\n",
    "predict_noPCA = (predict_noPCA > 0.5).astype(int)\n",
    "print(predict_noPCA)"
   ]
  },
  {
   "cell_type": "code",
   "execution_count": 27,
   "metadata": {},
   "outputs": [],
   "source": [
    "predict_vect = np.argmax(predict, axis=0)\n",
    "y_test_vect = np.argmax(y_test, axis=1)\n",
    "predict_vect_noKmeans = np.argmax(predict_noKmeans, axis=0)\n",
    "y_test_vect_noKmeans = np.argmax(y_test_noKmeans, axis=1)\n",
    "predict_vect_noPCA = np.argmax(predict_noPCA, axis=0)"
   ]
  },
  {
   "cell_type": "code",
   "execution_count": 28,
   "metadata": {
    "scrolled": true
   },
   "outputs": [
    {
     "data": {
      "image/png": "[encoded data removed]",
      "text/plain": [
       "<Figure size 1200x1000 with 6 Axes>"
      ]
     },
     "metadata": {},
     "output_type": "display_data"
    }
   ],
   "source": [
    "plt.figure(figsize=(12, 10))\n",
    "\n",
    "plt.subplot(2, 2, 1)\n",
    "cm = confusion_matrix(y_test_vect, predict_vect)\n",
    "sns.heatmap(cm,\n",
    "            annot=True,\n",
    "            fmt='g')\n",
    "plt.ylabel('Prediction',fontsize=13)\n",
    "plt.xlabel('Actual',fontsize=13)\n",
    "plt.title('Kmeans & PCA',fontsize=17)\n",
    "\n",
    "plt.subplot(2, 2, 2)\n",
    "cm = confusion_matrix(y_test_vect_noKmeans, predict_vect_noKmeans)\n",
    "sns.heatmap(cm,\n",
    "            annot=True,\n",
    "            fmt='g')\n",
    "plt.ylabel('Prediction',fontsize=13)\n",
    "plt.xlabel('Actual',fontsize=13)\n",
    "plt.title('noKmeans & PCA',fontsize=17)\n",
    "\n",
    "plt.subplot(2, 2, 3)\n",
    "cm = confusion_matrix(y_test_vect, predict_vect_noPCA)\n",
    "sns.heatmap(cm,\n",
    "            annot=True,\n",
    "            fmt='g')\n",
    "plt.ylabel('Prediction',fontsize=13)\n",
    "plt.xlabel('Actual',fontsize=13)\n",
    "plt.title('Kmeans & noPCA',fontsize=17)\n",
    "\n",
    "plt.tight_layout()\n",
    "plt.show()"
   ]
  },
  {
   "cell_type": "code",
   "execution_count": null,
   "metadata": {},
   "outputs": [],
   "source": []
  }
 ],
 "metadata": {
  "colab": {
   "provenance": []
  },
  "kernelspec": {
   "display_name": "Python 3 (ipykernel)",
   "language": "python",
   "name": "python3"
  },
  "language_info": {
   "codemirror_mode": {
    "name": "ipython",
    "version": 3
   },
   "file_extension": ".py",
   "mimetype": "text/x-python",
   "name": "python",
   "nbconvert_exporter": "python",
   "pygments_lexer": "ipython3",
   "version": "3.10.9"
  }
 },
 "nbformat": 4,
 "nbformat_minor": 1
}
